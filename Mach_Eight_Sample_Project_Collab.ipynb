{
  "nbformat": 4,
  "nbformat_minor": 0,
  "metadata": {
    "colab": {
      "provenance": []
    },
    "kernelspec": {
      "name": "python3",
      "display_name": "Python 3"
    },
    "language_info": {
      "name": "python"
    }
  },
  "cells": [
    {
      "cell_type": "markdown",
      "source": [
        "\n",
        "\n",
        "## Mach Eight Sample Project\n",
        "*David Orozco*\n",
        "\n",
        "\n",
        "## Problem Thinking\n",
        "We know that sum is basically `a + b = c`, so we have to calculate and get two nums from the list that sums `c`. The way to access to each of these numbers is by iterating over the list. Once we access over each value, we could say we have `a` (and `c` which is the target), so we can substract and know what is the missing number, `b = c - a`. By doing this we can know easily what is the missing number to complete the pair. If we never found the missing number, means it didn't have a pair."
      ],
      "metadata": {
        "id": "MUGIISrPVVJC"
      }
    },
    {
      "cell_type": "code",
      "execution_count": 14,
      "metadata": {
        "id": "qimOfUk1TIRQ"
      },
      "outputs": [],
      "source": [
        "def get_list_of_pairs_eq_target(integers_lst = [], target = 0):\n",
        "  accepted_sums = []\n",
        "  remains = {}\n",
        "  for val in integers_lst:\n",
        "    if val in remains:\n",
        "      accepted_sums.append([val, remains[val]])\n",
        "      del remains[val]\n",
        "    else:\n",
        "      remains[target - val] = val\n",
        "  return accepted_sums"
      ]
    },
    {
      "cell_type": "code",
      "source": [
        "numbers = [1,9,5,0,0,20,-4,12,16,7,12]\n",
        "target = 12"
      ],
      "metadata": {
        "id": "tsAgZ5k9TePP"
      },
      "execution_count": 21,
      "outputs": []
    },
    {
      "cell_type": "code",
      "source": [
        "get_list_of_pairs_eq_target(numbers, target)"
      ],
      "metadata": {
        "colab": {
          "base_uri": "https://localhost:8080/"
        },
        "id": "aMtn8j5YXgxM",
        "outputId": "7d660020-be26-4c26-b986-c66b4d235055"
      },
      "execution_count": 22,
      "outputs": [
        {
          "output_type": "execute_result",
          "data": {
            "text/plain": [
              "[[12, 0], [16, -4], [7, 5]]"
            ]
          },
          "metadata": {},
          "execution_count": 22
        }
      ]
    },
    {
      "cell_type": "code",
      "source": [
        "def print_pretty(list_of_pairs):\n",
        "  for idx, pair in enumerate(list_of_pairs):\n",
        "    print('{}. {} + {} = {}'.format(idx, pair[0], pair[1], sum(pair)))"
      ],
      "metadata": {
        "id": "SNaLI7O4WrZi"
      },
      "execution_count": 19,
      "outputs": []
    },
    {
      "cell_type": "code",
      "source": [
        "print_pretty(get_list_of_pairs_eq_target(numbers, target))"
      ],
      "metadata": {
        "colab": {
          "base_uri": "https://localhost:8080/"
        },
        "id": "a8J0SXcdXUpz",
        "outputId": "9a206830-b542-4bda-db3d-dfca6f61f049"
      },
      "execution_count": 23,
      "outputs": [
        {
          "output_type": "stream",
          "name": "stdout",
          "text": [
            "0. 12 + 0 = 12\n",
            "1. 16 + -4 = 12\n",
            "2. 7 + 5 = 12\n"
          ]
        }
      ]
    },
    {
      "cell_type": "code",
      "source": [
        "print_pretty(get_list_of_pairs_eq_target([1,2,3,4,5,6,7,8,9,10], 11))"
      ],
      "metadata": {
        "colab": {
          "base_uri": "https://localhost:8080/"
        },
        "id": "ubNYfAtebrrA",
        "outputId": "3507b63c-be35-4f32-dffd-be078f03f30a"
      },
      "execution_count": 25,
      "outputs": [
        {
          "output_type": "stream",
          "name": "stdout",
          "text": [
            "0. 6 + 5 = 11\n",
            "1. 7 + 4 = 11\n",
            "2. 8 + 3 = 11\n",
            "3. 9 + 2 = 11\n",
            "4. 10 + 1 = 11\n"
          ]
        }
      ]
    },
    {
      "cell_type": "markdown",
      "source": [
        "The results will appear based of the firsts sums pairs found and not on the first elements inserted on the possible dictionary"
      ],
      "metadata": {
        "id": "jSCKEj-ub5O5"
      }
    }
  ]
}